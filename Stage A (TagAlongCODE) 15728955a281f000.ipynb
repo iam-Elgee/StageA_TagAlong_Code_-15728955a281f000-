{
 "cells": [
  {
   "cell_type": "code",
   "execution_count": null,
   "id": "cc6f143c",
   "metadata": {},
   "outputs": [],
   "source": [
    "import numpy as np\n",
    "import pandas as pd\n"
   ]
  },
  {
   "cell_type": "code",
   "execution_count": null,
   "id": "77471e8d",
   "metadata": {},
   "outputs": [],
   "source": [
    "food_data = pd.read_csv('FoodBalanceSheets_E_Africa_NOFLAG.csv')"
   ]
  },
  {
   "cell_type": "code",
   "execution_count": null,
   "id": "bd5dce38",
   "metadata": {},
   "outputs": [],
   "source": [
    "food_data = pd.read_csv('FoodBalanceSheets_E_Africa_NOFLAG.csv', sep=',', encoding='latin-1')\n",
    "food_data.head()"
   ]
  },
  {
   "cell_type": "code",
   "execution_count": null,
   "id": "aaecfca9",
   "metadata": {},
   "outputs": [],
   "source": [
    "grouped_food_data = food_data.groupby(\"Item\")[\"Item\"].count()\n",
    "grouped_food_data\n"
   ]
  },
  {
   "cell_type": "code",
   "execution_count": null,
   "id": "76bc4162",
   "metadata": {},
   "outputs": [],
   "source": [
    "grouped_food_data([\"Animal fats\"]).sum()\n"
   ]
  },
  {
   "cell_type": "code",
   "execution_count": null,
   "id": "e98523c5",
   "metadata": {},
   "outputs": [],
   "source": [
    "food_data[\"Y2015\"].describe()"
   ]
  },
  {
   "cell_type": "code",
   "execution_count": null,
   "id": "c404d544",
   "metadata": {},
   "outputs": [],
   "source": [
    "missingdata_2016 = food_data[\"Y2016\"]\n",
    "missingdata_2016.describe()\n",
    "missingdata_2016.isnull().sum()\n",
    "#missingdata_2016.isnull().count()"
   ]
  },
  {
   "cell_type": "markdown",
   "id": "e3667ef8",
   "metadata": {},
   "source": [
    "---------Strongest Correlation with years Question-----------"
   ]
  },
  {
   "cell_type": "code",
   "execution_count": null,
   "id": "1c5fa5cf",
   "metadata": {},
   "outputs": [],
   "source": [
    "correlationQ_2014 = food_data[\"Y2014\"].corr(food_data[\"Element Code\"])\n",
    "correlationQ_2014"
   ]
  },
  {
   "cell_type": "code",
   "execution_count": null,
   "id": "46f8b0a6",
   "metadata": {},
   "outputs": [],
   "source": [
    "\n",
    "correlationQ_2015 = food_data[\"Y2015\"].corr(food_data[\"Element Code\"])\n",
    "correlationQ_2015"
   ]
  },
  {
   "cell_type": "code",
   "execution_count": null,
   "id": "349d0ea2",
   "metadata": {},
   "outputs": [],
   "source": [
    "correlationQ_2016 = food_data[\"Y2016\"].corr(food_data[\"Element Code\"])\n",
    "correlationQ_2016"
   ]
  },
  {
   "cell_type": "code",
   "execution_count": null,
   "id": "200a44a1",
   "metadata": {},
   "outputs": [],
   "source": [
    "correlationQ_2017 = food_data[\"Y2017\"].corr(food_data[\"Element Code\"])\n",
    "correlationQ_2017"
   ]
  },
  {
   "cell_type": "code",
   "execution_count": null,
   "id": "dea3b645",
   "metadata": {},
   "outputs": [],
   "source": [
    "correlationQ_2018 = food_data[\"Y2018\"].corr(food_data[\"Element Code\"])\n",
    "correlationQ_2018"
   ]
  },
  {
   "cell_type": "code",
   "execution_count": null,
   "id": "6499210d",
   "metadata": {},
   "outputs": [],
   "source": [
    "-------- Import Quantity question ----------"
   ]
  },
  {
   "cell_type": "code",
   "execution_count": null,
   "id": "14b3713b",
   "metadata": {},
   "outputs": [],
   "source": [
    "food_data.groupby(\"Element\")[\"Element\"].count()\n",
    "food_data.pivot_table(index='Element', columns='Seed')"
   ]
  },
  {
   "cell_type": "code",
   "execution_count": null,
   "id": "a55f7000",
   "metadata": {},
   "outputs": [],
   "source": [
    "food_data.groupby(\"Element\")#[\"Seed\"].count()"
   ]
  },
  {
   "cell_type": "code",
   "execution_count": null,
   "id": "b82457c5",
   "metadata": {},
   "outputs": [],
   "source": [
    "#Question 20\n",
    "#Total number of unique countries == 49\n",
    "food_data.groupby(\"Area\")[\"Area\"].nunique().sum()\n"
   ]
  }
 ],
 "metadata": {
  "kernelspec": {
   "display_name": "Python 3 (ipykernel)",
   "language": "python",
   "name": "python3"
  },
  "language_info": {
   "codemirror_mode": {
    "name": "ipython",
    "version": 3
   },
   "file_extension": ".py",
   "mimetype": "text/x-python",
   "name": "python",
   "nbconvert_exporter": "python",
   "pygments_lexer": "ipython3",
   "version": "3.9.7"
  }
 },
 "nbformat": 4,
 "nbformat_minor": 5
}
